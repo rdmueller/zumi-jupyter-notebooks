{
 "cells": [
  {
   "cell_type": "code",
   "execution_count": null,
   "metadata": {},
   "outputs": [],
   "source": [
    "from zumi.zumi import Zumi\n",
    "import time\n",
    "\n",
    "zumi = Zumi()\n",
    "\n",
    "for i in range(0,10):\n",
    "    # battery level is updated every 500ms or half a second\n",
    "    time.sleep(0.5)\n",
    "    battery = zumi.get_battery_voltage()\n",
    "    print(battery)"
   ]
  }
 ],
 "metadata": {
  "kernelspec": {
   "display_name": "Python 3",
   "language": "python",
   "name": "python3"
  },
  "language_info": {
   "codemirror_mode": {
    "name": "ipython",
    "version": 3
   },
   "file_extension": ".py",
   "mimetype": "text/x-python",
   "name": "python",
   "nbconvert_exporter": "python",
   "pygments_lexer": "ipython3",
   "version": "3.5.3"
  }
 },
 "nbformat": 4,
 "nbformat_minor": 2
}
