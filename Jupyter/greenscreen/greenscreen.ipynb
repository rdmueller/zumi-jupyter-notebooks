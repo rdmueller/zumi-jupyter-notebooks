{
 "cells": [
  {
   "cell_type": "code",
   "execution_count": 3,
   "metadata": {},
   "outputs": [
    {
     "ename": "ModuleNotFoundError",
     "evalue": "No module named 'matplotlib'",
     "output_type": "error",
     "traceback": [
      "\u001b[0;31m---------------------------------------------------------------------------\u001b[0m",
      "\u001b[0;31mModuleNotFoundError\u001b[0m                       Traceback (most recent call last)",
      "\u001b[0;32m<ipython-input-3-bc8b4efe2e25>\u001b[0m in \u001b[0;36m<module>\u001b[0;34m\u001b[0m\n\u001b[1;32m      4\u001b[0m \u001b[0;32mfrom\u001b[0m \u001b[0mIPython\u001b[0m\u001b[0;34m.\u001b[0m\u001b[0mdisplay\u001b[0m \u001b[0;32mimport\u001b[0m \u001b[0mImage\u001b[0m\u001b[0;34m,\u001b[0m \u001b[0mdisplay\u001b[0m\u001b[0;34m\u001b[0m\u001b[0;34m\u001b[0m\u001b[0m\n\u001b[1;32m      5\u001b[0m \u001b[0;31m# to output histograms\u001b[0m\u001b[0;34m\u001b[0m\u001b[0;34m\u001b[0m\u001b[0;34m\u001b[0m\u001b[0m\n\u001b[0;32m----> 6\u001b[0;31m \u001b[0;32mimport\u001b[0m \u001b[0mmatplotlib\u001b[0m\u001b[0;34m.\u001b[0m\u001b[0mpyplot\u001b[0m \u001b[0;32mas\u001b[0m \u001b[0mplt\u001b[0m\u001b[0;34m\u001b[0m\u001b[0;34m\u001b[0m\u001b[0m\n\u001b[0m\u001b[1;32m      7\u001b[0m \u001b[0;34m\u001b[0m\u001b[0m\n\u001b[1;32m      8\u001b[0m \u001b[0;31m# load test image and background\u001b[0m\u001b[0;34m\u001b[0m\u001b[0;34m\u001b[0m\u001b[0;34m\u001b[0m\u001b[0m\n",
      "\u001b[0;31mModuleNotFoundError\u001b[0m: No module named 'matplotlib'"
     ]
    }
   ],
   "source": [
    "import cv2  \n",
    "import numpy as np  \n",
    "# to output something in jupyter\n",
    "from IPython.display import Image, display\n",
    "# to output histograms\n",
    "import matplotlib.pyplot as plt\n",
    "\n",
    "# load test image and background\n",
    "frame = cv2.imread(\"Training-unsharp.png\") \n",
    "background = cv2.imread(\"IMG_20200105_133115.jpg\", interpolation=cv2.INTER_AREA) \n",
    "\n",
    "# resize both to be the same size\n",
    "frame = cv2.resize(frame, (1920, 1080)) \n",
    "background = cv2.resize(background, (1920, 1080)) \n",
    "  \n",
    "# the hsv space helps us to create a better mask\n",
    "hsv = cv2.cvtColor(frame, cv2.COLOR_BGR2HSV)\n",
    "\n",
    "\n",
    "h = hsv[:, :, 0]\n",
    "s = hsv[:, :, 1]\n",
    "v = hsv[:, :, 2]\n",
    "plt.subplots_adjust(hspace=0.5, wspace=0.25)\n",
    "plt.subplot(2, 2, 1)\n",
    "plt.imshow(hsv.cvtColor(img, cv2.COLOR_BGR2RGB),cmap='gray')\n",
    "plt.axis('off')\n",
    "plt.title('Original Image')\n",
    "plt.subplot(2, 2, 2)\n",
    "plt.hist(h.ravel(), bins=256, range=(0, 255), color='r')\n",
    "plt.title('Red Histogram')\n",
    "plt.subplot(2, 2, 3)\n",
    "plt.hist(s.ravel(), bins=256, range=(0, 255), color='r')\n",
    "\n",
    "\n",
    "l_green = np.array([40, 50, 50]) \n",
    "u_green = np.array([80, 255, 255]) \n",
    "\n",
    "mask = cv2.inRange(hsv, l_green, u_green) \n",
    "\n",
    "# greenscreen is not perfect - it doesn't fill the corners\n",
    "# so let's fix the mask by filling the one corner left open\n",
    "h, w = frame.shape[:2]\n",
    "fillmask = np.zeros((h + 2, w + 2), np.uint8)\n",
    "frame = frame.astype(\"uint8\")\n",
    "cv2.floodFill(mask, fillmask, (1919, 1079), 255)\n",
    "    \n",
    "res = cv2.bitwise_and(frame, frame, mask = mask) \n",
    "  \n",
    "f = frame - res \n",
    "f = np.where(f == 0, background, f) \n",
    "\n",
    "# now resize the resulting image to a fifth of the original image\n",
    "f = cv2.resize(f, (int(1920/5), int(1080/5)), interpolation=cv2.INTER_AREA) \n",
    "\n",
    "cv2.imwrite(\"result.png\",frame)\n",
    "display(Image(filename=\"result.png\"))\n",
    "\n",
    "cv2.imwrite(\"result.png\",mask)\n",
    "display(Image(filename=\"result.png\"))\n",
    "\n",
    "cv2.imwrite(\"result.png\",f)\n",
    "display(Image(filename=\"result.png\"))\n",
    "  \n"
   ]
  }
 ],
 "metadata": {
  "kernelspec": {
   "display_name": "Python 3",
   "language": "python",
   "name": "python3"
  },
  "language_info": {
   "codemirror_mode": {
    "name": "ipython",
    "version": 3
   },
   "file_extension": ".py",
   "mimetype": "text/x-python",
   "name": "python",
   "nbconvert_exporter": "python",
   "pygments_lexer": "ipython3",
   "version": "3.8.3"
  }
 },
 "nbformat": 4,
 "nbformat_minor": 4
}
